{
 "cells": [
  {
   "cell_type": "markdown",
   "id": "115037c8-3ac1-43ca-a68d-92251a44ab08",
   "metadata": {},
   "source": [
    "# Recursive Function"
   ]
  },
  {
   "cell_type": "code",
   "execution_count": 45,
   "id": "2769dd13-4630-45bb-9322-1bd9eb21971d",
   "metadata": {},
   "outputs": [
    {
     "name": "stdout",
     "output_type": "stream",
     "text": [
      "6\n"
     ]
    }
   ],
   "source": [
    "def fibo(n: int) -> int:\n",
    "    \"\"\" Return the nth Fibonacci number \"\"\"\n",
    "    return n if n in (0, 1) else fibo(n - 1) + fibo(n - 2)\n",
    "\n",
    "print(6)"
   ]
  },
  {
   "cell_type": "code",
   "execution_count": 46,
   "id": "a0bbbedc-9058-4450-a1e8-6f2ab0fc3cff",
   "metadata": {},
   "outputs": [
    {
     "name": "stdout",
     "output_type": "stream",
     "text": [
      "3.4690269999373414e-06\n"
     ]
    }
   ],
   "source": [
    "if __name__ == \"__main__\":\n",
    "    import timeit\n",
    "    n = 1000\n",
    "    times = timeit.Timer(\"fibo(6)\", \"from __main__ import fibo\").repeat(repeat = 3, number = n)\n",
    "    print(min(times) / n)"
   ]
  },
  {
   "cell_type": "markdown",
   "id": "fc2b49e5-65d4-4260-bedd-f7094cc1aa45",
   "metadata": {},
   "source": [
    "# Fast Fib"
   ]
  },
  {
   "cell_type": "code",
   "execution_count": 49,
   "id": "1cc689d1-a92f-4721-9fe5-24498337955f",
   "metadata": {},
   "outputs": [
    {
     "name": "stdout",
     "output_type": "stream",
     "text": [
      "75025\n"
     ]
    }
   ],
   "source": [
    "def fast_fib(n: int = 6) -> int:\n",
    "    \"\"\" Linear number of operations \"\"\"\n",
    "    if n == 0:\n",
    "        return 0\n",
    "    nums = list(range(n + 1))\n",
    "    for i, _ in enumerate(nums):\n",
    "        nums[i] = nums[i] if nums[i] in (0, 1) else nums[i - 1] + nums[i - 2]\n",
    "    return nums[n]\n",
    "\n",
    "print(fibo_new(25))"
   ]
  },
  {
   "cell_type": "code",
   "execution_count": 48,
   "id": "273613cd-3182-4fa8-852f-c5f12cb855dc",
   "metadata": {},
   "outputs": [
    {
     "name": "stdout",
     "output_type": "stream",
     "text": [
      "2.142063000064809e-06\n"
     ]
    }
   ],
   "source": [
    "if __name__ == \"__main__\":\n",
    "    import timeit\n",
    "    n = 1000\n",
    "    times = timeit.Timer(\"fast_fib(6)\", \"from __main__ import fast_fib\").repeat(repeat = 3, number = n)\n",
    "    print(min(times) / n)"
   ]
  },
  {
   "cell_type": "code",
   "execution_count": null,
   "id": "e6a2fab8-d4d7-4fdd-8b67-645ab9fb3588",
   "metadata": {},
   "outputs": [],
   "source": []
  }
 ],
 "metadata": {
  "kernelspec": {
   "display_name": "Python 3 (ipykernel)",
   "language": "python",
   "name": "python3"
  },
  "language_info": {
   "codemirror_mode": {
    "name": "ipython",
    "version": 3
   },
   "file_extension": ".py",
   "mimetype": "text/x-python",
   "name": "python",
   "nbconvert_exporter": "python",
   "pygments_lexer": "ipython3",
   "version": "3.10.12"
  }
 },
 "nbformat": 4,
 "nbformat_minor": 5
}
