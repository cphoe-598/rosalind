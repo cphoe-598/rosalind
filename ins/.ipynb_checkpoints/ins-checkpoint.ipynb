{
 "cells": [
  {
   "cell_type": "code",
   "execution_count": 21,
   "id": "b857e87f-b52a-4133-9e79-a86e5c15540c",
   "metadata": {},
   "outputs": [
    {
     "name": "stdout",
     "output_type": "stream",
     "text": [
      "OG: [6, 10, 4, 5, 1, 2]\n",
      "---\n",
      "Sorted: [1, 2, 4, 5, 6, 10]\n",
      "Swaps: 12\n"
     ]
    }
   ],
   "source": [
    "def insertion_sort(items):\n",
    "    \"\"\" Insertion sort \"\"\"\n",
    "    items = items.copy()\n",
    "    swaps = 0\n",
    "    for i, _ in enumerate(items):\n",
    "        k = i\n",
    "        while (k > 0) and (items[k] < items[k - 1]):\n",
    "            items[k], items[k - 1] = items[k - 1], items[k]\n",
    "            k -= 1\n",
    "            swaps += 1\n",
    "    return items, swaps\n",
    "\n",
    "A = [6, 10, 4, 5, 1, 2]\n",
    "A_s = insertion_sort(A)\n",
    "print(f\"OG: {A}\")\n",
    "print(\"---\")\n",
    "print(f\"Sorted: {A_s[0]}\")\n",
    "print(f\"Swaps: {A_s[1]}\")"
   ]
  },
  {
   "cell_type": "code",
   "execution_count": 17,
   "id": "1915bfa7-9575-4e72-9244-50896e00df1d",
   "metadata": {},
   "outputs": [
    {
     "name": "stdout",
     "output_type": "stream",
     "text": [
      "5.122534399924916e-06\n"
     ]
    }
   ],
   "source": [
    "if __name__ == \"__main__\":\n",
    "    import timeit\n",
    "    n = 10000\n",
    "    times = timeit.Timer(\"insertion_sort([6, 10, 4, 5, 1, 2])\", \"from __main__ import insertion_sort\").repeat(3, n)\n",
    "    print(min(times) / n)"
   ]
  },
  {
   "cell_type": "code",
   "execution_count": null,
   "id": "b28ad63d-798c-407e-9469-d3fd18d1f5f2",
   "metadata": {},
   "outputs": [],
   "source": []
  }
 ],
 "metadata": {
  "kernelspec": {
   "display_name": "Python 3 (ipykernel)",
   "language": "python",
   "name": "python3"
  },
  "language_info": {
   "codemirror_mode": {
    "name": "ipython",
    "version": 3
   },
   "file_extension": ".py",
   "mimetype": "text/x-python",
   "name": "python",
   "nbconvert_exporter": "python",
   "pygments_lexer": "ipython3",
   "version": "3.10.12"
  }
 },
 "nbformat": 4,
 "nbformat_minor": 5
}
