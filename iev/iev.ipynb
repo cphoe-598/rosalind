{
 "cells": [
  {
   "cell_type": "markdown",
   "id": "e2717ee8-e390-4d65-8aee-3fd59ed9b8bf",
   "metadata": {},
   "source": [
    "# Problem\n",
    "\n",
    "For a random variable $X$ taking integer values between 1 and $n$, the expected value of $X$ is $E(X)=\\sum^{n}_{k=1}{k\\times{}Pr(X=k)}$. The expected value offers us a way of taking the long-term average of a random variable over a large number of trials.\n",
    "\n",
    "As a motivating example, let $X$ be the number on a six-sided die. Over a large number of rolls, we should expect to obtain an average of 3.5 on the die (even though it's not possible to roll a 3.5). The formula for expected value confirms that $E(X)=\\sum^{6}_{k=1}{k\\times{}Pr(X=k)}=3.5$.\n",
    "\n",
    "More generally, a random variable for which every one of a number of equally spaced outcomes has the same probability is called a uniform random variable (in the die example, this \"equal spacing\" is equal to 1). We can generalize our die example to find that if $X$ is a uniform random variable with minimum possible value $a$ and maximum possible value $b$, then $E(X)=\\frac{a+b}{2}$. You may also wish to verify that for the dice example, if $Y$ is the random variable associated with the outcome of a second die roll, then $E(X+Y)=7$.\n",
    "\n",
    "**Given:** Six nonnegative integers, each of which does not exceed 20,000. The integers correspond to the number of couples in a population possessing each genotype pairing for a given factor. In order, the six given integers represent the number of couples having the following genotypes:\n",
    "\n",
    "1. AA-AA\n",
    "2. AA-Aa\n",
    "3. AA-aa\n",
    "4. Aa-Aa\n",
    "5. Aa-aa\n",
    "6. aa-aa\n",
    "\n",
    "**Return:** The expected number of offspring displaying the dominant phenotype in the next generation, under the assumption that every couple has exactly two offspring.\n",
    "\n",
    "---\n",
    "\n",
    "Sample Dataset\n",
    "\n",
    "`1 0 0 1 0 1`\n",
    "\n",
    "Sample Output\n",
    "\n",
    "`3.5`"
   ]
  },
  {
   "cell_type": "code",
   "execution_count": 45,
   "id": "41b6428b-74a0-4584-ac0f-a4fd89117e52",
   "metadata": {},
   "outputs": [],
   "source": [
    "import numpy as np"
   ]
  },
  {
   "cell_type": "code",
   "execution_count": 59,
   "id": "1659fd7c-bb9b-4707-a455-d07b7a40bd72",
   "metadata": {},
   "outputs": [
    {
     "name": "stdout",
     "output_type": "stream",
     "text": [
      "159981.5\n"
     ]
    }
   ],
   "source": [
    "#Frequencies of couples: (AA-AA, AA-Aa, AA-aa, Aa-Aa, Aa-aa, aa-aa)\n",
    "couples = np.array([17479, 19885, 19837, 17855, 18797, 18831], dtype = np.int64)\n",
    "# couples = np.array([1, 0, 0, 1, 0, 1], dtype = np.int64)\n",
    "\n",
    "p_child_not_dominant = np.array([0, 0, 0, 0.25, 0.5, 1], dtype = np.float64)\n",
    "\n",
    "expected_dom_children = np.sum(couples * (1 - p_child_not_dominant)) * 2\n",
    "print(expected_dom_children)"
   ]
  },
  {
   "cell_type": "code",
   "execution_count": 33,
   "id": "10af35cd-c246-40e5-9dbc-f33fc2fd7d4f",
   "metadata": {},
   "outputs": [
    {
     "data": {
      "text/plain": [
       "0.7833333333333333"
      ]
     },
     "execution_count": 33,
     "metadata": {},
     "output_type": "execute_result"
    }
   ],
   "source": [
    "def firstLaw(k: int, m: int, n: int) -> float:\n",
    "    \"\"\"\n",
    "    P(child gets one dominant allele from parent population [k, m, n], or [AA, Aa, aa]\n",
    "\n",
    "    Think Hardy-Weinberg!\n",
    "    p^2 + 2pq + q^2 = 1\n",
    "    \"\"\"\n",
    "\n",
    "    N = float(k + m + n)\n",
    "\n",
    "    if N < 1:\n",
    "        return 0\n",
    "\n",
    "    # P(two individuals chosen from the population)\n",
    "    # 1/N for the 1st individual; 1/N-1 for the 2nd\n",
    "    p_mating_pair = 1 / N / (N - 1)\n",
    "\n",
    "    # P(both parents homo-rec)\n",
    "    p_both_homorec = n * (n - 1)\n",
    "\n",
    "    # P(one parent het, one parent homo-rec)\n",
    "    p_het_homorec = n * m\n",
    "\n",
    "    # P(both parents het)\n",
    "    p_both_het = m * (m - 1) / 4.\n",
    "\n",
    "    # 1 - P(child inherits two recessive alleles) = P(child inherits one dominant allele)\n",
    "    return 1 - ( p_mating_pair * (p_both_homorec + p_het_homorec + p_both_het) )\n",
    "\n",
    "\n",
    "def main() -> None:\n",
    "    \"\"\" The main brain \"\"\"\n",
    "\n",
    "    args = get_args()\n",
    "\n",
    "    # compute and print\n",
    "    expected_dominant = firstLaw(args.k, args.m, args.n)\n",
    "    print(expected_dominant)\n",
    "\n",
    "\n",
    "if __name__ == \"__main__\":\n",
    "    main()"
   ]
  }
 ],
 "metadata": {
  "kernelspec": {
   "display_name": "Python 3 (ipykernel)",
   "language": "python",
   "name": "python3"
  },
  "language_info": {
   "codemirror_mode": {
    "name": "ipython",
    "version": 3
   },
   "file_extension": ".py",
   "mimetype": "text/x-python",
   "name": "python",
   "nbconvert_exporter": "python",
   "pygments_lexer": "ipython3",
   "version": "3.10.12"
  }
 },
 "nbformat": 4,
 "nbformat_minor": 5
}
